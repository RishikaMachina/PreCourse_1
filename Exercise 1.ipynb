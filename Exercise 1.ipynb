{
 "cells": [
  {
   "cell_type": "markdown",
   "metadata": {},
   "source": [
    "# Exercise_1 : Implement Stack using Array"
   ]
  },
  {
   "cell_type": "code",
   "execution_count": 17,
   "metadata": {},
   "outputs": [],
   "source": [
    "class myStack:\n",
    "    def __init__(self):\n",
    "        self.items = []\n",
    "        print(\"Initialized Stack\")\n",
    "        pass\n",
    "         \n",
    "    def isEmpty(self):\n",
    "        return self.items == []\n",
    "        pass\n",
    "         \n",
    "    def push(self, item):\n",
    "        print(\"Adding\",item,\"to stack\")\n",
    "        return self.items.append(item)\n",
    "        pass\n",
    "\n",
    "    def pop(self):\n",
    "        print(\"Popping last item\")\n",
    "        if not self.items:\n",
    "            return None\n",
    "        #a = self.items[-1]\n",
    "        #del self.items[-1]\n",
    "        #return a\n",
    "        return self.items.pop()\n",
    "        pass\n",
    "\n",
    "    def peek(self):\n",
    "        if not self.items:\n",
    "            return None\n",
    "        return self.items[-1]        \n",
    "        pass\n",
    "\n",
    "    def size(self):\n",
    "        return len(self.items)\n",
    "        pass\n",
    "\n",
    "    def show(self):\n",
    "        print(\"printing all values\")\n",
    "        return self.items\n",
    "        pass"
   ]
  },
  {
   "cell_type": "code",
   "execution_count": 20,
   "metadata": {},
   "outputs": [
    {
     "name": "stdout",
     "output_type": "stream",
     "text": [
      "Initialized Stack\n",
      "Adding 1 to stack\n",
      "Adding 2 to stack\n",
      "Adding 3 to stack\n",
      "size is  3\n",
      "Popping last item\n",
      "3\n",
      "printing all values\n",
      "['1', '2']\n",
      "size is  2\n",
      "2\n"
     ]
    }
   ],
   "source": [
    "s = myStack()\n",
    "s.push('1')\n",
    "s.push('2')\n",
    "s.push('3')\n",
    "print(\"size is \",s.size())\n",
    "\n",
    "print(s.pop())\n",
    "print(s.show())\n",
    "print(\"size is \",s.size())\n",
    "\n",
    "print(s.peek())"
   ]
  },
  {
   "cell_type": "code",
   "execution_count": null,
   "metadata": {},
   "outputs": [],
   "source": []
  }
 ],
 "metadata": {
  "kernelspec": {
   "display_name": "Python 3",
   "language": "python",
   "name": "python3"
  },
  "language_info": {
   "codemirror_mode": {
    "name": "ipython",
    "version": 3
   },
   "file_extension": ".py",
   "mimetype": "text/x-python",
   "name": "python",
   "nbconvert_exporter": "python",
   "pygments_lexer": "ipython3",
   "version": "3.6.5"
  }
 },
 "nbformat": 4,
 "nbformat_minor": 2
}
