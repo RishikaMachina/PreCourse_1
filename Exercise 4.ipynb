{
 "cells": [
  {
   "cell_type": "markdown",
   "metadata": {},
   "source": [
    "# Exercise_4 : Insert an element in a Binary Tree"
   ]
  },
  {
   "cell_type": "code",
   "execution_count": 3,
   "metadata": {},
   "outputs": [
    {
     "ename": "SyntaxError",
     "evalue": "unexpected EOF while parsing (<ipython-input-3-b2effb9eaaa7>, line 21)",
     "output_type": "error",
     "traceback": [
      "\u001b[1;36m  File \u001b[1;32m\"<ipython-input-3-b2effb9eaaa7>\"\u001b[1;36m, line \u001b[1;32m21\u001b[0m\n\u001b[1;33m    \u001b[0m\n\u001b[1;37m    ^\u001b[0m\n\u001b[1;31mSyntaxError\u001b[0m\u001b[1;31m:\u001b[0m unexpected EOF while parsing\n"
     ]
    }
   ],
   "source": [
    "# Python program to insert element in binary tree  \n",
    "class newNode():  \n",
    "  \n",
    "    def __init__(self, data):  \n",
    "        self.key = data \n",
    "        self.left = None\n",
    "        self.right = None\n",
    "          \n",
    "\"\"\" Inorder traversal of a binary tree\"\"\"\n",
    "def inorder(temp): \n",
    "    final = []\n",
    "    if temp:\n",
    "        final = self.inorder(temp.left)\n",
    "        \n",
    "    \n",
    "  \n",
    "  \n",
    "\"\"\"function to insert element in binary tree \"\"\"\n",
    "def insert(temp,key): \n",
    "  \n",
    "    "
   ]
  },
  {
   "cell_type": "code",
   "execution_count": null,
   "metadata": {},
   "outputs": [],
   "source": [
    "if __name__ == '__main__': \n",
    "    root = newNode(10)  \n",
    "    root.left = newNode(11)  \n",
    "    root.left.left = newNode(7)  \n",
    "    root.right = newNode(9)  \n",
    "    root.right.left = newNode(15)  \n",
    "    root.right.right = newNode(8)  \n",
    "  \n",
    "    print(\"Inorder traversal before insertion:\", end = \" \") \n",
    "    inorder(root)  \n",
    "  \n",
    "    \n",
    "    insert(root, 12)  \n",
    "  \n",
    "    print()  \n",
    "    print(\"Inorder traversal after insertion:\", end = \" \") \n",
    "    inorder(root) \n"
   ]
  }
 ],
 "metadata": {
  "kernelspec": {
   "display_name": "Python 3",
   "language": "python",
   "name": "python3"
  },
  "language_info": {
   "codemirror_mode": {
    "name": "ipython",
    "version": 3
   },
   "file_extension": ".py",
   "mimetype": "text/x-python",
   "name": "python",
   "nbconvert_exporter": "python",
   "pygments_lexer": "ipython3",
   "version": "3.6.5"
  }
 },
 "nbformat": 4,
 "nbformat_minor": 2
}
