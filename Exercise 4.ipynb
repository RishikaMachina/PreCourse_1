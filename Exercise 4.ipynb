{
 "cells": [
  {
   "cell_type": "markdown",
   "metadata": {},
   "source": [
    "# Exercise_4 : Insert an element in a Binary Tree"
   ]
  },
  {
   "cell_type": "code",
   "execution_count": 2,
   "metadata": {},
   "outputs": [
    {
     "name": "stdout",
     "output_type": "stream",
     "text": [
      "Inorder traversal before insertion at root \n",
      "\n",
      "7\n",
      "11\n",
      "10\n",
      "15\n",
      "9\n",
      "8\n",
      "Inorder traversal after insertion at empty space \n",
      "\n",
      "7\n",
      "11\n",
      "100\n",
      "10\n",
      "15\n",
      "9\n",
      "8\n",
      "Inorder traversal after insertion at root \n",
      "\n",
      "7\n",
      "11\n",
      "100\n",
      "12\n",
      "10\n",
      "15\n",
      "9\n",
      "8\n"
     ]
    }
   ],
   "source": [
    "class newNode():  \n",
    "    def __init__(self, data):  \n",
    "        self.key = data \n",
    "        self.left = None\n",
    "        self.right = None\n",
    " \n",
    "def inorder(temp):\n",
    "    if temp:\n",
    "        inorder(temp.left)\n",
    "        print(temp.key)\n",
    "        inorder(temp.right)\n",
    "  \n",
    "def insert_at_root(temp,key):\n",
    "    a = newNode(key)\n",
    "    a.right = temp\n",
    "    a.left = temp.left\n",
    "    temp.left = None\n",
    "    return a\n",
    "\n",
    "def insert_to_empty(root,n):\n",
    "    queue = []\n",
    "    if root:\n",
    "        queue.append(root)\n",
    "        while(queue):\n",
    "            a = queue.pop(0)\n",
    "            if(a.left):\n",
    "                queue.append(a.left)\n",
    "            else:\n",
    "                a.left = newNode(n)\n",
    "                break\n",
    "            if(a.right):\n",
    "                queue.append(a.right)\n",
    "            else:\n",
    "                a.right = newNode(n)\n",
    "                break\n",
    "        return root\n",
    "    else:\n",
    "        return None\n",
    "    \n",
    "if __name__ == '__main__': \n",
    "    root = newNode(10)  \n",
    "    root.left = newNode(11)  \n",
    "    root.left.left = newNode(7) \n",
    "    root.right = newNode(9)  \n",
    "    root.right.left = newNode(15)  \n",
    "    root.right.right = newNode(8)  \n",
    "  \n",
    "    print(\"Inorder traversal before insertion at root\", end = \" \") \n",
    "    print(\"\\n\")\n",
    "    inorder(root) \n",
    "    \n",
    "    print(\"Inorder traversal after insertion at empty space\", end = \" \")\n",
    "    print(\"\\n\")\n",
    "    inorder(insert_to_empty(root,100))\n",
    "    \n",
    "    print(\"Inorder traversal after insertion at root\", end = \" \")\n",
    "    print(\"\\n\")\n",
    "    inorder(insert_at_root(root, 12))"
   ]
  },
  {
   "cell_type": "code",
   "execution_count": null,
   "metadata": {},
   "outputs": [],
   "source": []
  }
 ],
 "metadata": {
  "kernelspec": {
   "display_name": "Python 3",
   "language": "python",
   "name": "python3"
  },
  "language_info": {
   "codemirror_mode": {
    "name": "ipython",
    "version": 3
   },
   "file_extension": ".py",
   "mimetype": "text/x-python",
   "name": "python",
   "nbconvert_exporter": "python",
   "pygments_lexer": "ipython3",
   "version": "3.6.5"
  }
 },
 "nbformat": 4,
 "nbformat_minor": 2
}
