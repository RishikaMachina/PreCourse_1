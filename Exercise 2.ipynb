{
 "cells": [
  {
   "cell_type": "markdown",
   "metadata": {},
   "source": [
    "# Exercise_2 : Implement Stack using Linked List."
   ]
  },
  {
   "cell_type": "code",
   "execution_count": 1,
   "metadata": {},
   "outputs": [],
   "source": [
    "class Node:\n",
    "    def __init__(self, data):\n",
    "        self.data = data\n",
    "        self.next = None\n",
    "        pass"
   ]
  },
  {
   "cell_type": "code",
   "execution_count": 2,
   "metadata": {},
   "outputs": [],
   "source": [
    "class Stack:\n",
    "    def __init__(self):\n",
    "        self.head = None\n",
    "        pass\n",
    "\n",
    "    def push(self,data):\n",
    "        if not self.head:\n",
    "            self.head = Node(data)\n",
    "        else:\n",
    "            add_node = Node(data)\n",
    "#             self.head.next = add_node\n",
    "#             self.head = add_node\n",
    "            add_node.next = self.head\n",
    "            self.head = add_node\n",
    "        print(\"pushed\",data)\n",
    "        pass\n",
    "\n",
    "    def pop(self):\n",
    "        if not self.head:\n",
    "            return None\n",
    "        else:\n",
    "            last_node = self.head\n",
    "            self.head = last_node.next\n",
    "            print(\"Popped\",last_node.data)\n",
    "        pass\n",
    "    \n",
    "    def show(self):\n",
    "        a = []\n",
    "        x = self.head\n",
    "        while x is not None:\n",
    "            a.append(x.data)\n",
    "            x = x.next\n",
    "        print(\"Stack:\",a)\n",
    "        pass"
   ]
  },
  {
   "cell_type": "code",
   "execution_count": 4,
   "metadata": {
    "scrolled": true
   },
   "outputs": [
    {
     "name": "stdout",
     "output_type": "stream",
     "text": [
      "pushed 1\n",
      "pushed 2\n",
      "pushed 3\n",
      "Stack: [3, 2, 1]\n",
      "Popped 3\n",
      "Stack: [2, 1]\n"
     ]
    }
   ],
   "source": [
    "s = Stack()\n",
    "\n",
    "s.push(1)\n",
    "s.push(2)\n",
    "s.push(3)\n",
    "\n",
    "s.show()\n",
    "\n",
    "s.pop()\n",
    "s.show()"
   ]
  }
 ],
 "metadata": {
  "kernelspec": {
   "display_name": "Python 3",
   "language": "python",
   "name": "python3"
  },
  "language_info": {
   "codemirror_mode": {
    "name": "ipython",
    "version": 3
   },
   "file_extension": ".py",
   "mimetype": "text/x-python",
   "name": "python",
   "nbconvert_exporter": "python",
   "pygments_lexer": "ipython3",
   "version": "3.6.5"
  }
 },
 "nbformat": 4,
 "nbformat_minor": 2
}
