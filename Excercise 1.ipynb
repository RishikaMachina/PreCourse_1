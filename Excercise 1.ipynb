{
 "cells": [
  {
   "cell_type": "markdown",
   "metadata": {},
   "source": [
    "# Exercise_1 : Implement Stack using Array"
   ]
  },
  {
   "cell_type": "code",
   "execution_count": 1,
   "metadata": {},
   "outputs": [],
   "source": [
    "class myStack:\n",
    "    def __init__(self):\n",
    "        self.items = []\n",
    "        pass\n",
    "         \n",
    "    def isEmpty(self):\n",
    "        return self.items == []\n",
    "        pass\n",
    "         \n",
    "    def push(self, item):\n",
    "        return self.items.append(item)\n",
    "        pass\n",
    "\n",
    "    def pop(self):\n",
    "        #a = self.items[-1]\n",
    "        #del self.items[-1]\n",
    "        #return a\n",
    "        return self.items.pop()\n",
    "        pass\n",
    "\n",
    "    def peek(self):\n",
    "        return self.items[-1]        \n",
    "        pass\n",
    "\n",
    "    def size(self):\n",
    "        return len(self.items)\n",
    "        pass\n",
    "\n",
    "    def show(self):\n",
    "        return self.items\n",
    "        pass"
   ]
  },
  {
   "cell_type": "code",
   "execution_count": 2,
   "metadata": {},
   "outputs": [
    {
     "name": "stdout",
     "output_type": "stream",
     "text": [
      "2\n",
      "['1']\n"
     ]
    }
   ],
   "source": [
    "s = myStack()\n",
    "s.push('1')\n",
    "s.push('2')\n",
    "print(s.pop())\n",
    "print(s.show())"
   ]
  }
 ],
 "metadata": {
  "kernelspec": {
   "display_name": "Python 3",
   "language": "python",
   "name": "python3"
  },
  "language_info": {
   "codemirror_mode": {
    "name": "ipython",
    "version": 3
   },
   "file_extension": ".py",
   "mimetype": "text/x-python",
   "name": "python",
   "nbconvert_exporter": "python",
   "pygments_lexer": "ipython3",
   "version": "3.6.5"
  }
 },
 "nbformat": 4,
 "nbformat_minor": 2
}
