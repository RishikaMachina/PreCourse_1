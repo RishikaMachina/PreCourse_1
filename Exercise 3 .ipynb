{
 "cells": [
  {
   "cell_type": "markdown",
   "metadata": {},
   "source": [
    "# Exercise_3 : Implement Singly Linked List"
   ]
  },
  {
   "cell_type": "code",
   "execution_count": 1,
   "metadata": {},
   "outputs": [],
   "source": [
    "class Node(object):\n",
    "    \n",
    "    def __init__(self,value):\n",
    "        self.value = value\n",
    "        self.nextNode = None\n",
    "        pass"
   ]
  },
  {
   "cell_type": "code",
   "execution_count": 2,
   "metadata": {},
   "outputs": [],
   "source": [
    "class LinkedList(object):\n",
    "    \n",
    "    def __init__(self):\n",
    "        self.headval = None\n",
    "        pass\n",
    "    \n",
    "    def print_list(self):\n",
    "        x = self.headval\n",
    "        while x is not None:\n",
    "            print(x.value)\n",
    "            x = x.nextNode\n",
    "        pass\n",
    "    \n",
    "    def remove(self, val):\n",
    "        p = self.headval\n",
    "        if (p == None):\n",
    "            return\n",
    "        if (p.value == val):\n",
    "            self.headval = p.nextNode\n",
    "            HeadVal = None\n",
    "            return\n",
    "        while (p is not None):\n",
    "            if (p.value == val):\n",
    "                break\n",
    "            prev = p\n",
    "            p = p.nextNode\n",
    "        prev.nextNode = p.nextNode\n",
    "        p = None\n",
    "        pass\n",
    "    \n",
    "    def Beggining(self,new_data):\n",
    "        new_node = Node(new_data)\n",
    "        new_node.nextNode = self.headval\n",
    "        self.headval = new_node\n",
    "        pass\n",
    "    \n",
    "    def End(self,new_data):\n",
    "        new_node = Node(new_data)\n",
    "        if self.headval is None:\n",
    "            self.headval = new_node\n",
    "        else:\n",
    "            a = self.headval\n",
    "            while(a.nextNode):\n",
    "                a = a.nextNode\n",
    "            a.nextNode = new_node\n",
    "        pass\n",
    "        \n",
    "    def Between(self,node,data):\n",
    "        if node is None:\n",
    "            print(\"Can't add node next to the gien node\")\n",
    "        new_node = Node(data)\n",
    "        new_node.nextNode = node.nextNode\n",
    "        node.nextNode = new_node\n",
    "        pass"
   ]
  },
  {
   "cell_type": "code",
   "execution_count": 3,
   "metadata": {},
   "outputs": [],
   "source": [
    "l = LinkedList()"
   ]
  },
  {
   "cell_type": "code",
   "execution_count": 5,
   "metadata": {},
   "outputs": [
    {
     "name": "stdout",
     "output_type": "stream",
     "text": [
      "1\n",
      "2\n",
      "3\n"
     ]
    }
   ],
   "source": [
    "a = Node(1)\n",
    "b = Node(2)\n",
    "c = Node(3)\n",
    "a.nextNode = b\n",
    "b.nextNode = c\n",
    "c.nextNode = None\n",
    "l.headval = a\n",
    "l.print_list()"
   ]
  },
  {
   "cell_type": "code",
   "execution_count": 6,
   "metadata": {},
   "outputs": [],
   "source": [
    "l.Beggining(0)\n",
    "l.End(4)\n",
    "l.End(5)"
   ]
  },
  {
   "cell_type": "code",
   "execution_count": 7,
   "metadata": {},
   "outputs": [
    {
     "name": "stdout",
     "output_type": "stream",
     "text": [
      "0\n",
      "1\n",
      "2\n",
      "3\n",
      "4\n",
      "5\n"
     ]
    }
   ],
   "source": [
    "l.print_list()"
   ]
  },
  {
   "cell_type": "code",
   "execution_count": 8,
   "metadata": {},
   "outputs": [
    {
     "name": "stdout",
     "output_type": "stream",
     "text": [
      "0\n",
      "1\n",
      "2\n",
      "100\n",
      "3\n",
      "4\n",
      "5\n"
     ]
    }
   ],
   "source": [
    "l.Between(b,100)\n",
    "l.print_list()"
   ]
  }
 ],
 "metadata": {
  "kernelspec": {
   "display_name": "Python 3",
   "language": "python",
   "name": "python3"
  },
  "language_info": {
   "codemirror_mode": {
    "name": "ipython",
    "version": 3
   },
   "file_extension": ".py",
   "mimetype": "text/x-python",
   "name": "python",
   "nbconvert_exporter": "python",
   "pygments_lexer": "ipython3",
   "version": "3.6.5"
  }
 },
 "nbformat": 4,
 "nbformat_minor": 2
}
